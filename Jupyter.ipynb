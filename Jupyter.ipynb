{
 "cells": [
  {
   "cell_type": "code",
   "execution_count": 2,
   "id": "aff9ab6f-4967-4aec-a2ee-de44a16cc163",
   "metadata": {},
   "outputs": [],
   "source": []
  },
  {
   "cell_type": "code",
   "execution_count": 4,
   "id": "c942a0b3-7122-42f0-b28a-e255f4b7d5f7",
   "metadata": {},
   "outputs": [
    {
     "ename": "NameError",
     "evalue": "name 'cv2' is not defined",
     "output_type": "error",
     "traceback": [
      "\u001b[1;31m---------------------------------------------------------------------------\u001b[0m",
      "\u001b[1;31mNameError\u001b[0m                                 Traceback (most recent call last)",
      "Cell \u001b[1;32mIn[4], line 1\u001b[0m\n\u001b[1;32m----> 1\u001b[0m img \u001b[39m=\u001b[39m cv2\u001b[39m.\u001b[39mimread(\u001b[39m'\u001b[39m\u001b[39mKorsica.PNG\u001b[39m\u001b[39m'\u001b[39m)\n\u001b[0;32m      3\u001b[0m img_reducida \u001b[39m=\u001b[39m cv2\u001b[39m.\u001b[39mresize(img, (\u001b[39m0\u001b[39m,\u001b[39m0\u001b[39m), fx\u001b[39m=\u001b[39m\u001b[39m0.5\u001b[39m, fy\u001b[39m=\u001b[39m\u001b[39m0.5\u001b[39m)\n\u001b[0;32m      5\u001b[0m img_gris \u001b[39m=\u001b[39m cv2\u001b[39m.\u001b[39mcvtColor(img_reducida, cv2\u001b[39m.\u001b[39mCOLOR_BGR2GRAY)\n",
      "\u001b[1;31mNameError\u001b[0m: name 'cv2' is not defined"
     ]
    }
   ],
   "source": [
    "import cv2\n",
    "import numpy as np\n",
    "import matplotlib.pyplot as plt\n",
    "\n",
    "\n",
    "img = cv2.imread('Korsica.PNG')\n",
    "\n",
    "img_reducida = cv2.resize(img, (0,0), fx=0.5, fy=0.5)\n",
    "\n",
    "img_gris = cv2.cvtColor(img_reducida, cv2.COLOR_BGR2GRAY)\n",
    "\n",
    "img_invertida = cv2.flip(img_reducida, 1)\n",
    "\n",
    "img_bordes = cv2.Canny(img_reducida, 100, 200)\n",
    "\n",
    "fig, axs = plt.subplots(4, 2, figsize=(10, 30))\n",
    "\n",
    "\n",
    "axs[0, 0].imshow(cv2.cvtColor(img, cv2.COLOR_BGR2RGB))\n",
    "axs[0, 0].set_title('Imagen a colo')\n",
    "axs[0, 1].imshow(cv2.cvtColor(img_reducida, cv2.COLOR_BGR2RGB))\n",
    "axs[0, 1].set_title('Imagen reducida')\n",
    "\n",
    "axs[1, 0].imshow(cv2.cvtColor(img, cv2.COLOR_BGR2RGB))\n",
    "axs[1, 0].set_title('Imagen original')\n",
    "axs[1, 1].imshow(img_gris, cmap='gray')\n",
    "axs[1, 1].set_title('Imagen en escala de grises')\n",
    "\n",
    "axs[2, 0].imshow(cv2.cvtColor(img, cv2.COLOR_BGR2RGB))\n",
    "axs[2, 0].set_title('Imagen original')\n",
    "axs[2, 1].imshow(cv2.cvtColor(img_invertida, cv2.COLOR_BGR2RGB))\n",
    "axs[2, 1].set_title('Imagen invertida')\n",
    "\n",
    "axs[3, 0].imshow(cv2.cvtColor(img, cv2.COLOR_BGR2RGB))\n",
    "axs[3, 0].set_title('Imagen original')\n",
    "axs[3, 1].imshow(img_bordes, cmap='gray')\n",
    "axs[3, 1].set_title('Imagen con filtro de detección de bordes')\n",
    "\n",
    "\n",
    "plt.subplots_adjust(hspace=0.5)\n",
    "\n",
    "plt.show()"
   ]
  },
  {
   "cell_type": "code",
   "execution_count": null,
   "id": "ae86cdce",
   "metadata": {},
   "outputs": [],
   "source": []
  }
 ],
 "metadata": {
  "kernelspec": {
   "display_name": "Python 3 (ipykernel)",
   "language": "python",
   "name": "python3"
  },
  "language_info": {
   "codemirror_mode": {
    "name": "ipython",
    "version": 3
   },
   "file_extension": ".py",
   "mimetype": "text/x-python",
   "name": "python",
   "nbconvert_exporter": "python",
   "pygments_lexer": "ipython3",
   "version": "3.11.2"
  }
 },
 "nbformat": 4,
 "nbformat_minor": 5
}
