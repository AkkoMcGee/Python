{
 "cells": [
  {
   "cell_type": "code",
   "execution_count": 1,
   "metadata": {},
   "outputs": [
    {
     "name": "stdout",
     "output_type": "stream",
     "text": [
      "FPS: 0.0\n",
      "Ancho: 0\n",
      "Alto: 0\n",
      "Total de fotogramas: 0\n"
     ]
    }
   ],
   "source": [
    "import cv2\n",
    "\n",
    "# Ruta del archivo de video de entrada\n",
    "input_file = 'video.mp4'\n",
    "\n",
    "# Crear objeto de captura de video\n",
    "cap = cv2.VideoCapture(input_file)\n",
    "\n",
    "# Verificar si se abrió correctamente el archivo de video\n",
    "if not cap.isOpened():\n",
    "    print(\"Error al abrir el archivo de video.\")\n",
    "\n",
    "else:\n",
    "    # Procesa el video aquí\n",
    "    pass\n",
    "\n",
    "cap.release()\n",
    "\n",
    "# Obtener información del video\n",
    "fps = cap.get(cv2.CAP_PROP_FPS)\n",
    "width = int(cap.get(cv2.CAP_PROP_FRAME_WIDTH))\n",
    "height = int(cap.get(cv2.CAP_PROP_FRAME_HEIGHT))\n",
    "frame_count = int(cap.get(cv2.CAP_PROP_FRAME_COUNT))\n",
    "\n",
    "# Mostrar información del video\n",
    "print(f\"FPS: {fps}\")\n",
    "print(f\"Ancho: {width}\")\n",
    "print(f\"Alto: {height}\")\n",
    "print(f\"Total de fotogramas: {frame_count}\")\n",
    "\n",
    "# Iterar sobre los fotogramas del video\n",
    "while True:\n",
    "    # Leer el siguiente fotograma\n",
    "    ret, frame = cap.read()\n",
    "\n",
    "    # Verificar si se llegó al final del video\n",
    "    if not ret:\n",
    "        break\n",
    "\n",
    "    # Procesar el fotograma aquí\n",
    "    # ...\n",
    "\n",
    "    # Mostrar el fotograma procesado\n",
    "    cv2.imshow('Video', frame)\n",
    "\n",
    "    # Salir del bucle si se presiona la tecla 'q'\n",
    "    if cv2.waitKey(1) & 0xFF == ord('q'):\n",
    "        break\n",
    "\n",
    "# Liberar los recursos\n",
    "cap.release()\n",
    "cv2.destroyAllWindows()"
   ]
  }
 ],
 "metadata": {
  "kernelspec": {
   "display_name": "Python 3",
   "language": "python",
   "name": "python3"
  },
  "language_info": {
   "codemirror_mode": {
    "name": "ipython",
    "version": 3
   },
   "file_extension": ".py",
   "mimetype": "text/x-python",
   "name": "python",
   "nbconvert_exporter": "python",
   "pygments_lexer": "ipython3",
   "version": "3.11.2"
  },
  "orig_nbformat": 4,
  "vscode": {
   "interpreter": {
    "hash": "1b149da1d51ccee49902b2dd58b5ada93ad3d569e35e8d5756914a908f7527c4"
   }
  }
 },
 "nbformat": 4,
 "nbformat_minor": 2
}
